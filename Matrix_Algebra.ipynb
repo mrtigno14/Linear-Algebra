{
  "nbformat": 4,
  "nbformat_minor": 0,
  "metadata": {
    "colab": {
      "name": "Matrix Algebra.ipynb",
      "provenance": [],
      "collapsed_sections": [],
      "authorship_tag": "ABX9TyP3COkmiPwBg6l0NCdbsiBf",
      "include_colab_link": true
    },
    "kernelspec": {
      "name": "python3",
      "display_name": "Python 3"
    },
    "language_info": {
      "name": "python"
    }
  },
  "cells": [
    {
      "cell_type": "markdown",
      "metadata": {
        "id": "view-in-github",
        "colab_type": "text"
      },
      "source": [
        "<a href=\"https://colab.research.google.com/github/Mtigno14/Linear-Algebra-58019/blob/main/Matrix_Algebra.ipynb\" target=\"_parent\"><img src=\"https://colab.research.google.com/assets/colab-badge.svg\" alt=\"Open In Colab\"/></a>"
      ]
    },
    {
      "cell_type": "markdown",
      "metadata": {
        "id": "wTNqIgvJ0EF1"
      },
      "source": [
        "#Python program to inverse"
      ]
    },
    {
      "cell_type": "code",
      "metadata": {
        "colab": {
          "base_uri": "https://localhost:8080/"
        },
        "id": "JFYUtyzoz5Ke",
        "outputId": "642dd445-256b-4129-d7b9-d0b0d3a01896"
      },
      "source": [
        "import numpy as np\n",
        "A = np.array([[1,2],[4,7]])\n",
        "B = np.linalg.inv(A)\n",
        "print(B)\n",
        "\n",
        "C = np.dot(A,B)\n",
        "print(C)"
      ],
      "execution_count": 21,
      "outputs": [
        {
          "output_type": "stream",
          "name": "stdout",
          "text": [
            "[[-7.  2.]\n",
            " [ 4. -1.]]\n",
            "[[1. 0.]\n",
            " [0. 1.]]\n"
          ]
        }
      ]
    },
    {
      "cell_type": "code",
      "metadata": {
        "colab": {
          "base_uri": "https://localhost:8080/"
        },
        "id": "ymn7x4mB4oHV",
        "outputId": "86534e81-2017-4d0d-c728-d3bf3aae6ccb"
      },
      "source": [
        "##Python Program to inverse a 3x3 Matrix\n",
        "\n",
        "A = np.array([[6,1,1],[4,-2,5],[2,8,7]]) #original components\n",
        "print(A)\n",
        "B = np.linalg.inv(A)\n",
        "print(\"\\nThe inverse above is: \")\n",
        "print(B)\n",
        "C = np.transpose(A)\n",
        "print(\"\\ntransposed as: \")\n",
        "print(C)"
      ],
      "execution_count": 30,
      "outputs": [
        {
          "output_type": "stream",
          "name": "stdout",
          "text": [
            "[[ 6  1  1]\n",
            " [ 4 -2  5]\n",
            " [ 2  8  7]]\n",
            "\n",
            "The inverse above is: \n",
            "[[ 0.17647059 -0.00326797 -0.02287582]\n",
            " [ 0.05882353 -0.13071895  0.08496732]\n",
            " [-0.11764706  0.1503268   0.05228758]]\n",
            "\n",
            "transposed as: \n",
            "[[ 6  4  2]\n",
            " [ 1 -2  8]\n",
            " [ 1  5  7]]\n"
          ]
        }
      ]
    },
    {
      "cell_type": "markdown",
      "metadata": {
        "id": "cSjyDYYM7yOY"
      },
      "source": [
        "## Program Code Product of A and B"
      ]
    },
    {
      "cell_type": "code",
      "metadata": {
        "colab": {
          "base_uri": "https://localhost:8080/"
        },
        "id": "R-4aJqmR6mnq",
        "outputId": "776555b6-cfd6-4f7f-c272-9b84f390e2ab"
      },
      "source": [
        "D = np.cross(A, B)\n",
        "print(D)"
      ],
      "execution_count": 39,
      "outputs": [
        {
          "output_type": "stream",
          "name": "stdout",
          "text": [
            "[[-0.01960784  0.31372549 -0.19607843]\n",
            " [ 0.48366013 -0.04575163 -0.40522876]\n",
            " [-0.63398693 -0.92810458  1.24183007]]\n"
          ]
        }
      ]
    },
    {
      "cell_type": "markdown",
      "metadata": {
        "id": "iUQpRIIE-0yL"
      },
      "source": [
        "#Coding Activity 3"
      ]
    },
    {
      "cell_type": "code",
      "metadata": {
        "colab": {
          "base_uri": "https://localhost:8080/"
        },
        "id": "9eteRbTi-4em",
        "outputId": "5db745b1-f9e8-4485-e608-7ff4c2da7e98"
      },
      "source": [
        "#Create a Python Program to inverse and transpose a 4x4 matrix, A = ( [6,1,1,3],[4,-2,5,1],[2,8,7,6],[3,1,9,7] )\n",
        "\n",
        "A = ([[6,1,1,3],[4,-2,5,1],[2,8,7,6],[3,1,9,7]])\n",
        "print(\"\\nThe original components\")\n",
        "print(A)\n",
        "B = np.linalg.inv(A)\n",
        "print(\"\\nThe inverse is: \")\n",
        "print(B)\n",
        "C = np.transpose(A)\n",
        "print(\"\\nThe transpose is: \")\n",
        "print(C)"
      ],
      "execution_count": 42,
      "outputs": [
        {
          "output_type": "stream",
          "name": "stdout",
          "text": [
            "\n",
            "The original components\n",
            "[[6, 1, 1, 3], [4, -2, 5, 1], [2, 8, 7, 6], [3, 1, 9, 7]]\n",
            "\n",
            "The inverse is: \n",
            "[[ 0.13368984  0.10695187  0.02139037 -0.09090909]\n",
            " [-0.00229183  0.02673797  0.14820474 -0.12987013]\n",
            " [-0.12987013  0.18181818  0.06493506 -0.02597403]\n",
            " [ 0.11000764 -0.28342246 -0.11382735  0.23376623]]\n",
            "\n",
            "The transpose is: \n",
            "[[ 6  4  2  3]\n",
            " [ 1 -2  8  1]\n",
            " [ 1  5  7  9]\n",
            " [ 3  1  6  7]]\n"
          ]
        }
      ]
    }
  ]
}