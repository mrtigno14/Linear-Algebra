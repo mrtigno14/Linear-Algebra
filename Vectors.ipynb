{
  "nbformat": 4,
  "nbformat_minor": 0,
  "metadata": {
    "colab": {
      "name": "Vectors.ipynb",
      "provenance": [],
      "collapsed_sections": [],
      "authorship_tag": "ABX9TyOwmXc/jHmKszM+9zEVZa5g",
      "include_colab_link": true
    },
    "kernelspec": {
      "name": "python3",
      "display_name": "Python 3"
    },
    "language_info": {
      "name": "python"
    }
  },
  "cells": [
    {
      "cell_type": "markdown",
      "metadata": {
        "id": "view-in-github",
        "colab_type": "text"
      },
      "source": [
        "<a href=\"https://colab.research.google.com/github/Mtigno14/Linear-Algebra-58019/blob/main/Vectors.ipynb\" target=\"_parent\"><img src=\"https://colab.research.google.com/assets/colab-badge.svg\" alt=\"Open In Colab\"/></a>"
      ]
    },
    {
      "cell_type": "markdown",
      "metadata": {
        "id": "N1FgK8gm5tbL"
      },
      "source": [
        "#Matrix Algebra\n"
      ]
    },
    {
      "cell_type": "code",
      "metadata": {
        "colab": {
          "base_uri": "https://localhost:8080/"
        },
        "id": "aYjavKvYXMHB",
        "outputId": "d20885d2-6fbc-4c85-8082-6e87353377ef"
      },
      "source": [
        "import numpy as np\n",
        "a = np.array([1,2,3,])\n",
        "print(a)"
      ],
      "execution_count": null,
      "outputs": [
        {
          "output_type": "stream",
          "name": "stdout",
          "text": [
            "[1 2 3]\n"
          ]
        }
      ]
    },
    {
      "cell_type": "code",
      "metadata": {
        "colab": {
          "base_uri": "https://localhost:8080/"
        },
        "id": "BWauehN84Mz5",
        "outputId": "a7b2ec8f-9413-4993-bc44-4e2c1a3cc3c4"
      },
      "source": [
        "import numpy as np\n",
        "b = np.array(([1,2,3,],[4,5,6]))\n",
        "print(b)"
      ],
      "execution_count": null,
      "outputs": [
        {
          "output_type": "stream",
          "name": "stdout",
          "text": [
            "[[1 2 3]\n",
            " [4 5 6]]\n"
          ]
        }
      ]
    },
    {
      "cell_type": "code",
      "metadata": {
        "colab": {
          "base_uri": "https://localhost:8080/"
        },
        "id": "G7Mfn8WM4c9r",
        "outputId": "2bfe4319-a93c-4403-c48a-02bcf77f9248"
      },
      "source": [
        "import numpy as np\n",
        "c = np.array([[1,2,3],[4,5,6],[7,8,9]])\n",
        "print(c)"
      ],
      "execution_count": null,
      "outputs": [
        {
          "output_type": "stream",
          "name": "stdout",
          "text": [
            "[[1 2 3]\n",
            " [4 5 6]\n",
            " [7 8 9]]\n"
          ]
        }
      ]
    },
    {
      "cell_type": "code",
      "metadata": {
        "colab": {
          "base_uri": "https://localhost:8080/"
        },
        "id": "wCtt7c6a4t0s",
        "outputId": "f2a65353-e5dc-49b1-9964-be1b38d1df6d"
      },
      "source": [
        "import numpy as np\n",
        "d = np.full ((3,3),7)\n",
        "print(d)"
      ],
      "execution_count": null,
      "outputs": [
        {
          "output_type": "stream",
          "name": "stdout",
          "text": [
            "[[7 7 7]\n",
            " [7 7 7]\n",
            " [7 7 7]]\n"
          ]
        }
      ]
    },
    {
      "cell_type": "code",
      "metadata": {
        "colab": {
          "base_uri": "https://localhost:8080/"
        },
        "id": "DGuzxZyk485P",
        "outputId": "88eb4a09-b888-47c2-95db-2dc021049176"
      },
      "source": [
        "import numpy as np\n",
        "a = np.array ([[1,2,3],[4,5,6],[7,8,9]])\n",
        "print(a)\n",
        "\n",
        "a = np.diagonal ([[1,2,3],[4,5,6],[7,8,9]])\n",
        "print(a)"
      ],
      "execution_count": null,
      "outputs": [
        {
          "output_type": "stream",
          "name": "stdout",
          "text": [
            "[[1 2 3]\n",
            " [4 5 6]\n",
            " [7 8 9]]\n",
            "[1 5 9]\n"
          ]
        }
      ]
    },
    {
      "cell_type": "code",
      "metadata": {
        "id": "Oe-KHbWh7e4Y",
        "colab": {
          "base_uri": "https://localhost:8080/"
        },
        "outputId": "6c53befd-4704-4ccb-dfd2-f2c426cb3d3d"
      },
      "source": [
        "import numpy as np\n",
        "f = np.eye(3)\n",
        "print(f)"
      ],
      "execution_count": null,
      "outputs": [
        {
          "output_type": "stream",
          "name": "stdout",
          "text": [
            "[[1. 0. 0.]\n",
            " [0. 1. 0.]\n",
            " [0. 0. 1.]]\n"
          ]
        }
      ]
    },
    {
      "cell_type": "code",
      "metadata": {
        "id": "THzKFXux-SBE",
        "colab": {
          "base_uri": "https://localhost:8080/"
        },
        "outputId": "ee7b6348-fbe5-48b5-baee-32ff51fae79f"
      },
      "source": [
        "import numpy as np\n",
        "z = np.zeros((3,3))\n",
        "print(z)"
      ],
      "execution_count": null,
      "outputs": [
        {
          "output_type": "stream",
          "name": "stdout",
          "text": [
            "[[0. 0. 0.]\n",
            " [0. 0. 0.]\n",
            " [0. 0. 0.]]\n"
          ]
        }
      ]
    },
    {
      "cell_type": "code",
      "metadata": {
        "colab": {
          "base_uri": "https://localhost:8080/"
        },
        "id": "krYjudHH_MFt",
        "outputId": "2d827891-dd58-4656-892b-4eb3cfb7df6b"
      },
      "source": [
        "import numpy as np\n",
        "b = np.empty((0,12))\n",
        "print(b)"
      ],
      "execution_count": null,
      "outputs": [
        {
          "output_type": "stream",
          "name": "stdout",
          "text": [
            "[]\n"
          ]
        }
      ]
    },
    {
      "cell_type": "markdown",
      "metadata": {
        "id": "-Mu9f-7EAr5J"
      },
      "source": [
        "#Operations"
      ]
    },
    {
      "cell_type": "code",
      "metadata": {
        "colab": {
          "base_uri": "https://localhost:8080/"
        },
        "id": "E6lWn0Ko_dPU",
        "outputId": "6ba60a22-9909-4fbd-a765-b051c9fa264a"
      },
      "source": [
        "import numpy as np\n",
        "x = np.full ((3,3),7)\n",
        "print(x+x)"
      ],
      "execution_count": null,
      "outputs": [
        {
          "output_type": "stream",
          "name": "stdout",
          "text": [
            "[[14 14 14]\n",
            " [14 14 14]\n",
            " [14 14 14]]\n"
          ]
        }
      ]
    },
    {
      "cell_type": "code",
      "metadata": {
        "colab": {
          "base_uri": "https://localhost:8080/"
        },
        "id": "K7EjO9t-_npj",
        "outputId": "a57dd761-9e47-4e43-8f7c-ff8171566661"
      },
      "source": [
        "import numpy as np\n",
        "x = np.full ((3,3),7)\n",
        "print(x-x)"
      ],
      "execution_count": null,
      "outputs": [
        {
          "output_type": "stream",
          "name": "stdout",
          "text": [
            "[[0 0 0]\n",
            " [0 0 0]\n",
            " [0 0 0]]\n"
          ]
        }
      ]
    }
  ]
}