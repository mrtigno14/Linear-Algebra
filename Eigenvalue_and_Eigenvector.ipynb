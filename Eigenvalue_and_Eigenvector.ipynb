{
  "nbformat": 4,
  "nbformat_minor": 0,
  "metadata": {
    "colab": {
      "name": "Eigenvalue and Eigenvector.ipynb",
      "provenance": [],
      "collapsed_sections": [],
      "authorship_tag": "ABX9TyNkFUuixZeZHgaQcNOWPurN",
      "include_colab_link": true
    },
    "kernelspec": {
      "name": "python3",
      "display_name": "Python 3"
    },
    "language_info": {
      "name": "python"
    }
  },
  "cells": [
    {
      "cell_type": "markdown",
      "metadata": {
        "id": "view-in-github",
        "colab_type": "text"
      },
      "source": [
        "<a href=\"https://colab.research.google.com/github/Mtigno14/Linear-Algebra-58019/blob/main/Eigenvalue_and_Eigenvector.ipynb\" target=\"_parent\"><img src=\"https://colab.research.google.com/assets/colab-badge.svg\" alt=\"Open In Colab\"/></a>"
      ]
    },
    {
      "cell_type": "code",
      "execution_count": 27,
      "metadata": {
        "colab": {
          "base_uri": "https://localhost:8080/"
        },
        "id": "hQkDiWQLj1Q3",
        "outputId": "5e145216-20a6-470c-f046-382cb63e52fb"
      },
      "outputs": [
        {
          "output_type": "stream",
          "name": "stdout",
          "text": [
            "Matrix A:\n",
            " [[-12   3]\n",
            " [  4   1]]\n",
            "\n",
            "Inverse Matrix A:\n",
            " [[-0.04166667  0.125     ]\n",
            " [ 0.16666667  0.5       ]]\n",
            "\n",
            "Matrix B:\n",
            " [[0]\n",
            " [0]]\n",
            "\n",
            "Dot Product:\n",
            " [[0.]\n",
            " [0.]]\n"
          ]
        }
      ],
      "source": [
        "import numpy as np\n",
        "from scipy.linalg import solve\n",
        "\n",
        "A = np.array([[-12,3],[4,1]]) #matrix A\n",
        "print(\"Matrix A:\\n\",A)\n",
        "\n",
        "inv_A = np.linalg.inv(A) #inverse function\n",
        "print(\"\\nInverse Matrix A:\\n\",inv_A) #prints inverse matrix of A\n",
        "\n",
        "B = np.array([[0],[0]]) #matrix B\n",
        "print(\"\\nMatrix B:\\n\",B)\n",
        "\n",
        "X = np.dot(inv_A,B) #dot product of the inverse matrix A and matrix B\n",
        "print(\"\\nDot Product:\\n\",X)"
      ]
    },
    {
      "cell_type": "code",
      "source": [
        "#Example 1\n",
        "\n",
        "A = np.array([[-6,3],[4,5]]) #matrix A\n",
        "print(\"Matrix A:\\n\",A)\n",
        "\n",
        "w,v = np.linalg.eig(A) #eig method to find the eigenvalue and eigenvector of matrix A\n",
        "print(\"\\nThe eigenvalue/s is/are:\",w) #prints eigenvalues of w\n",
        "print(\"\\nThe eigenvector/s is/are:\\n\",v) #prints eigenvectors of v\n",
        "\n",
        "#x = v.round() #prints rounded values of eigenvectors\n",
        "#print(x)"
      ],
      "metadata": {
        "colab": {
          "base_uri": "https://localhost:8080/"
        },
        "id": "NPkCnQpCo4H_",
        "outputId": "9f620547-acc9-4d50-b4ac-d220cdef4ae1"
      },
      "execution_count": 35,
      "outputs": [
        {
          "output_type": "stream",
          "name": "stdout",
          "text": [
            "Matrix A:\n",
            " [[-6  3]\n",
            " [ 4  5]]\n",
            "\n",
            "The eigenvalue/s is/are: [-7.  6.]\n",
            "\n",
            "The eigenvector/s is/are:\n",
            " [[-0.9486833  -0.24253563]\n",
            " [ 0.31622777 -0.9701425 ]]\n"
          ]
        }
      ]
    },
    {
      "cell_type": "code",
      "source": [
        "#Example 2\n",
        "\n",
        "A = np.array([[2, 2, 4],[1, 3, 5],[2, 3, 4]]) #matrix A\n",
        "print(\"Matrix A:\\n\",A)\n",
        "s,t = np.linalg.eig(A) #eig method to find the eigenvalue and eigenvector of matrix A\n",
        "print(\"\\nThe eigenvalue/s is/are:\",s.round()) #prints eigenvalues of s\n",
        "print(\"\\nThe right eigenvector/s is/are:\",t.round()) #prints eigenvalues of t\n",
        "\n",
        "C = np.dot(A,t.round()) #dot product of matrix A and eigenvector\n",
        "print(\"\\nDot product:\\n\",C)"
      ],
      "metadata": {
        "colab": {
          "base_uri": "https://localhost:8080/"
        },
        "id": "FxtjpWfLX6XH",
        "outputId": "087d4411-a2c8-436e-e136-e0c24ac57478"
      },
      "execution_count": 36,
      "outputs": [
        {
          "output_type": "stream",
          "name": "stdout",
          "text": [
            "Matrix A:\n",
            " [[2 2 4]\n",
            " [1 3 5]\n",
            " [2 3 4]]\n",
            "\n",
            "The eigenvalue/s is/are: [ 9.  1. -1.]\n",
            "\n",
            "The right eigenvector/s is/are: [[-1. -1. -0.]\n",
            " [-1.  1. -1.]\n",
            " [-1. -0.  1.]]\n",
            "\n",
            "Dot product:\n",
            " [[-8.  0.  2.]\n",
            " [-9.  2.  2.]\n",
            " [-9.  1.  1.]]\n"
          ]
        }
      ]
    }
  ]
}