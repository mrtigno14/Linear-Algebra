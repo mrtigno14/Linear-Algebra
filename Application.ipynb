{
  "nbformat": 4,
  "nbformat_minor": 0,
  "metadata": {
    "colab": {
      "name": "Application.ipynb",
      "provenance": [],
      "collapsed_sections": [],
      "authorship_tag": "ABX9TyOYjAclFGqiwp0lGOtFKvCU",
      "include_colab_link": true
    },
    "kernelspec": {
      "name": "python3",
      "display_name": "Python 3"
    },
    "language_info": {
      "name": "python"
    }
  },
  "cells": [
    {
      "cell_type": "markdown",
      "metadata": {
        "id": "view-in-github",
        "colab_type": "text"
      },
      "source": [
        "<a href=\"https://colab.research.google.com/github/Mtigno14/Linear-Algebra-58019/blob/main/Application.ipynb\" target=\"_parent\"><img src=\"https://colab.research.google.com/assets/colab-badge.svg\" alt=\"Open In Colab\"/></a>"
      ]
    },
    {
      "cell_type": "markdown",
      "metadata": {
        "id": "zn9u5rVTGEh7"
      },
      "source": [
        "##The price of one apple and one orange"
      ]
    },
    {
      "cell_type": "code",
      "metadata": {
        "colab": {
          "base_uri": "https://localhost:8080/"
        },
        "id": "rq__JOMqFBA0",
        "outputId": "8099bc24-93d0-473c-e7c7-f1ac5826da4b"
      },
      "source": [
        "import numpy as np\n",
        "from scipy.linalg import solve\n",
        "A = np.array(([20,10],[17,22]))\n",
        "B = np.array(([350],[500]))\n",
        "print(A)\n",
        "print(B)\n",
        "X = np.linalg.solve(A,B)\n",
        "print(X)"
      ],
      "execution_count": 10,
      "outputs": [
        {
          "output_type": "stream",
          "name": "stdout",
          "text": [
            "[[20 10]\n",
            " [17 22]]\n",
            "[[350]\n",
            " [500]]\n",
            "[[10.]\n",
            " [15.]]\n"
          ]
        }
      ]
    },
    {
      "cell_type": "code",
      "metadata": {
        "colab": {
          "base_uri": "https://localhost:8080/"
        },
        "id": "aISb6vCkHPfe",
        "outputId": "7860f5ff-5224-4001-a984-57e380491097"
      },
      "source": [
        "inv_A = np.linalg.inv(A)\n",
        "print(inv_A)\n",
        "X = np.linalg.inv(A).dot(B)\n",
        "print(X)"
      ],
      "execution_count": 5,
      "outputs": [
        {
          "output_type": "stream",
          "name": "stdout",
          "text": [
            "[[ 0.08148148 -0.03703704]\n",
            " [-0.06296296  0.07407407]]\n",
            "[[10.]\n",
            " [15.]]\n"
          ]
        }
      ]
    },
    {
      "cell_type": "code",
      "metadata": {
        "colab": {
          "base_uri": "https://localhost:8080/"
        },
        "id": "z3rHyLleIQxi",
        "outputId": "a2e2794b-85c2-419b-edbb-4b284ec6c8ec"
      },
      "source": [
        "X = np.dot(inv_A,B)\n",
        "print(X)"
      ],
      "execution_count": 6,
      "outputs": [
        {
          "output_type": "stream",
          "name": "stdout",
          "text": [
            "[[10.]\n",
            " [15.]]\n"
          ]
        }
      ]
    },
    {
      "cell_type": "markdown",
      "metadata": {
        "id": "coie76X4LHet"
      },
      "source": [
        "##Solving for three linear equations with unknown variables of x, y, and z"
      ]
    },
    {
      "cell_type": "code",
      "metadata": {
        "id": "_BwY_ZtULRLV"
      },
      "source": [
        "#4x + 3y+ 2z = 25\n",
        "#-2x + 2y+ 3z = -10\n",
        "#3x - 5y + 2z = -4"
      ],
      "execution_count": null,
      "outputs": []
    },
    {
      "cell_type": "code",
      "metadata": {
        "colab": {
          "base_uri": "https://localhost:8080/"
        },
        "id": "PIuRJkEYL46e",
        "outputId": "31f37b8a-eb2f-44e9-ae46-b776db0bfd28"
      },
      "source": [
        "A = np.array(([4,3,2],[-2,2,3],[3,-5,2]))\n",
        "B = np.array(([25],[-10],[-4]))\n",
        "print(A)\n",
        "print(B)\n",
        "X = np.linalg.solve(A,B)\n",
        "print(X)"
      ],
      "execution_count": 13,
      "outputs": [
        {
          "output_type": "stream",
          "name": "stdout",
          "text": [
            "[[ 4  3  2]\n",
            " [-2  2  3]\n",
            " [ 3 -5  2]]\n",
            "[[ 25]\n",
            " [-10]\n",
            " [ -4]]\n",
            "[[ 5.]\n",
            " [ 3.]\n",
            " [-2.]]\n"
          ]
        }
      ]
    }
  ]
}