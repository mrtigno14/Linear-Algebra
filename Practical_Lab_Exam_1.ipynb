{
  "nbformat": 4,
  "nbformat_minor": 0,
  "metadata": {
    "colab": {
      "name": "Practical Lab Exam 1.ipynb",
      "provenance": [],
      "collapsed_sections": [],
      "authorship_tag": "ABX9TyPJkitb1HEFakdMbLb60eMq",
      "include_colab_link": true
    },
    "kernelspec": {
      "name": "python3",
      "display_name": "Python 3"
    },
    "language_info": {
      "name": "python"
    }
  },
  "cells": [
    {
      "cell_type": "markdown",
      "metadata": {
        "id": "view-in-github",
        "colab_type": "text"
      },
      "source": [
        "<a href=\"https://colab.research.google.com/github/Mtigno14/Linear-Algebra-58019/blob/main/Practical_Lab_Exam_1.ipynb\" target=\"_parent\"><img src=\"https://colab.research.google.com/assets/colab-badge.svg\" alt=\"Open In Colab\"/></a>"
      ]
    },
    {
      "cell_type": "markdown",
      "metadata": {
        "id": "QpBTD53hAUAR"
      },
      "source": [
        "#Practical Lab Exam 1"
      ]
    },
    {
      "cell_type": "markdown",
      "metadata": {
        "id": "mquxk5EoAXRz"
      },
      "source": [
        "##Problem 1"
      ]
    },
    {
      "cell_type": "code",
      "metadata": {
        "colab": {
          "base_uri": "https://localhost:8080/"
        },
        "id": "oyG8aSbsAMzk",
        "outputId": "dfc7a68c-b05a-4e3f-9f95-0f94920cb376"
      },
      "source": [
        "import numpy as np\n",
        "\n",
        "title = \"Problem 1: \\n\"\n",
        "print(title)\n",
        "\n",
        "A = np.matrix ([[1,2,3],[4,5,6]])\n",
        "B = np.matrix (([1,2],[3,4],[5,6]))\n",
        "C = np.array ([[1,2,3],[4,5,6],[7,8,9]])\n",
        "D = np.array (([1,2],[3,4]))\n",
        "\n",
        "multiplication = A * B\n",
        "print(\"a.\")\n",
        "print(multiplication,\"\\n\")\n",
        "\n",
        "\n",
        "sum = D + D\n",
        "print(\"b.\")\n",
        "print(sum,\"\\n\")\n",
        "\n",
        "print(\"c.\")\n",
        "print(2*C)"
      ],
      "execution_count": 3,
      "outputs": [
        {
          "output_type": "stream",
          "name": "stdout",
          "text": [
            "Problem 1: \n",
            "\n",
            "a.\n",
            "[[22 28]\n",
            " [49 64]] \n",
            "\n",
            "b.\n",
            "[[2 4]\n",
            " [6 8]] \n",
            "\n",
            "c.\n",
            "[[ 2  4  6]\n",
            " [ 8 10 12]\n",
            " [14 16 18]]\n"
          ]
        }
      ]
    },
    {
      "cell_type": "markdown",
      "metadata": {
        "id": "IlmXKiyZAZdr"
      },
      "source": [
        "##Problem 2"
      ]
    },
    {
      "cell_type": "code",
      "metadata": {
        "colab": {
          "base_uri": "https://localhost:8080/"
        },
        "id": "rny81p8m_07u",
        "outputId": "f911cf16-3cfb-4196-d733-aa33f78b228c"
      },
      "source": [
        "import numpy as np\n",
        "\n",
        "print(\"Problem 2: \\n\")\n",
        "X = np.array([5, 3, -1])\n",
        "\n",
        "print(\"Type:\")\n",
        "print(type(X))\n",
        "print(\"\\nShape:\")\n",
        "print(X.shape) #shape\n",
        "print(\"\\nDimension:\")\n",
        "print(X.ndim)  #dimension\n",
        "print(\"\\nSize:\")\n",
        "print(X.size)"
      ],
      "execution_count": 4,
      "outputs": [
        {
          "output_type": "stream",
          "name": "stdout",
          "text": [
            "Problem 2: \n",
            "\n",
            "Type:\n",
            "<class 'numpy.ndarray'>\n",
            "\n",
            "Shape:\n",
            "(3,)\n",
            "\n",
            "Dimension:\n",
            "1\n",
            "\n",
            "Size:\n",
            "3\n"
          ]
        }
      ]
    }
  ]
}