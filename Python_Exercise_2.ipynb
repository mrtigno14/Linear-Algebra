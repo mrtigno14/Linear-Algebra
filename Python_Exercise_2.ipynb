{
  "nbformat": 4,
  "nbformat_minor": 0,
  "metadata": {
    "colab": {
      "name": "Python Exercise 2.ipynb",
      "provenance": [],
      "collapsed_sections": [],
      "authorship_tag": "ABX9TyMItzEHEf8+1ZtgANCdblSW",
      "include_colab_link": true
    },
    "kernelspec": {
      "name": "python3",
      "display_name": "Python 3"
    },
    "language_info": {
      "name": "python"
    }
  },
  "cells": [
    {
      "cell_type": "markdown",
      "metadata": {
        "id": "view-in-github",
        "colab_type": "text"
      },
      "source": [
        "<a href=\"https://colab.research.google.com/github/Mtigno14/Linear-Algebra-58019/blob/main/Python_Exercise_2.ipynb\" target=\"_parent\"><img src=\"https://colab.research.google.com/assets/colab-badge.svg\" alt=\"Open In Colab\"/></a>"
      ]
    },
    {
      "cell_type": "markdown",
      "metadata": {
        "id": "98l2Bn21nYbv"
      },
      "source": [
        "##Representing Vectors"
      ]
    },
    {
      "cell_type": "code",
      "metadata": {
        "colab": {
          "base_uri": "https://localhost:8080/"
        },
        "id": "KNr0FHq-kqN7",
        "outputId": "c648d722-de95-4566-b6b4-193b5a9bbbae"
      },
      "source": [
        "import numpy as np\n",
        "A = np.array([4,3])\n",
        "B = np.array([2,-5])\n",
        "\n",
        "print('Vector A is',A)\n",
        "print('Vector B is',B)"
      ],
      "execution_count": 6,
      "outputs": [
        {
          "output_type": "stream",
          "name": "stdout",
          "text": [
            "Vector A is [4 3]\n",
            "Vector B is [ 2 -5]\n"
          ]
        }
      ]
    },
    {
      "cell_type": "markdown",
      "metadata": {
        "id": "0xyddytIpMNs"
      },
      "source": [
        "##Describing Vectors in NumPy"
      ]
    },
    {
      "cell_type": "code",
      "metadata": {
        "colab": {
          "base_uri": "https://localhost:8080/"
        },
        "id": "lQ9Bs-NrpQsy",
        "outputId": "12fd82d7-93bb-4948-8a7a-13f19a48bbb9"
      },
      "source": [
        "import numpy as np\n",
        "ball1 = np.array([1,2,3])\n",
        "ball2 = np.array([0,1,-1])\n",
        "pool = np.array([ball1,ball2])\n",
        "\n",
        "pool.ndim #for dimensions\n",
        "pool.shape #for shapes"
      ],
      "execution_count": 14,
      "outputs": [
        {
          "output_type": "execute_result",
          "data": {
            "text/plain": [
              "(2, 3)"
            ]
          },
          "metadata": {},
          "execution_count": 14
        }
      ]
    },
    {
      "cell_type": "code",
      "metadata": {
        "colab": {
          "base_uri": "https://localhost:8080/"
        },
        "id": "G8nbKD8pq9vW",
        "outputId": "ce2d9db7-5909-4788-9a35-497e89ac43c3"
      },
      "source": [
        "X = np.array([[2,4,6],[1,3,5]])\n",
        "X\n",
        "pool.ndim\n",
        "X.ndim\n",
        "X.size"
      ],
      "execution_count": 23,
      "outputs": [
        {
          "output_type": "execute_result",
          "data": {
            "text/plain": [
              "6"
            ]
          },
          "metadata": {},
          "execution_count": 23
        }
      ]
    },
    {
      "cell_type": "markdown",
      "metadata": {
        "id": "iCXj36q-sAlw"
      },
      "source": [
        "#Space"
      ]
    },
    {
      "cell_type": "markdown",
      "metadata": {
        "id": "IebFJCpAsXiK"
      },
      "source": [
        "###Vector spaces are mathematical objects that abstractly capture the geometry and algebra of linear equations"
      ]
    },
    {
      "cell_type": "code",
      "metadata": {
        "colab": {
          "base_uri": "https://localhost:8080/"
        },
        "id": "CufEx_KgsCWl",
        "outputId": "657b3370-cb5a-4d8c-8e5e-2e9ce70b9d7a"
      },
      "source": [
        "VectorDef = \"Vector spaces are mathematical objects that abstractly capture the geometry and algebra of linear equations.\"\n",
        "print(VectorDef)"
      ],
      "execution_count": 27,
      "outputs": [
        {
          "output_type": "stream",
          "name": "stdout",
          "text": [
            "Vector spaces are mathematical objects that abstractly capture the geometry and algebra of linear equations.\n"
          ]
        }
      ]
    },
    {
      "cell_type": "markdown",
      "metadata": {
        "id": "M1Uf47rkt2dg"
      },
      "source": [
        "####Addition of Vectors"
      ]
    },
    {
      "cell_type": "code",
      "metadata": {
        "colab": {
          "base_uri": "https://localhost:8080/"
        },
        "id": "jsmn9CtRs0MK",
        "outputId": "eb45d075-5f67-4ac6-b696-2ed3f49a7aad"
      },
      "source": [
        "addend1 = np.array([2,4,6])\n",
        "addend2 = np.array([1,3,5])\n",
        "sum = addend1 + addend2\n",
        "print(sum)"
      ],
      "execution_count": 28,
      "outputs": [
        {
          "output_type": "stream",
          "name": "stdout",
          "text": [
            "[ 3  7 11]\n"
          ]
        }
      ]
    },
    {
      "cell_type": "code",
      "metadata": {
        "colab": {
          "base_uri": "https://localhost:8080/"
        },
        "id": "95q7Ui0Bu76j",
        "outputId": "9b830bf1-631a-4dea-a9df-9f5370261b03"
      },
      "source": [
        "addend1 = np.array([2,4,6])\n",
        "addend2 = np.array([1,3,5])\n",
        "resultant = addend1 + addend2\n",
        "print(resultant)"
      ],
      "execution_count": 29,
      "outputs": [
        {
          "output_type": "stream",
          "name": "stdout",
          "text": [
            "[ 3  7 11]\n"
          ]
        }
      ]
    },
    {
      "cell_type": "markdown",
      "metadata": {
        "id": "ygLdoJU9vUxk"
      },
      "source": [
        "####Subtraction of Vectors"
      ]
    },
    {
      "cell_type": "code",
      "metadata": {
        "colab": {
          "base_uri": "https://localhost:8080/"
        },
        "id": "wq0iqG6ivX9-",
        "outputId": "4a4c4599-11e3-4ad0-c6dd-130d98afe637"
      },
      "source": [
        "difference = addend1-addend2\n",
        "print(difference)"
      ],
      "execution_count": 30,
      "outputs": [
        {
          "output_type": "stream",
          "name": "stdout",
          "text": [
            "[1 1 1]\n"
          ]
        }
      ]
    },
    {
      "cell_type": "code",
      "metadata": {
        "colab": {
          "base_uri": "https://localhost:8080/"
        },
        "id": "xI3JJpiqwsyh",
        "outputId": "c3cfab32-0eb3-4272-9a83-d290ca7ace40"
      },
      "source": [
        "difference2 = np.subtract(addend1, addend2)\n",
        "print(difference2)"
      ],
      "execution_count": 31,
      "outputs": [
        {
          "output_type": "stream",
          "name": "stdout",
          "text": [
            "[1 1 1]\n"
          ]
        }
      ]
    },
    {
      "cell_type": "markdown",
      "metadata": {
        "id": "kxhPcYenykRk"
      },
      "source": [
        "####Scaling"
      ]
    },
    {
      "cell_type": "code",
      "metadata": {
        "colab": {
          "base_uri": "https://localhost:8080/"
        },
        "id": "ggr0aaRRw1HV",
        "outputId": "58b83b20-2d10-48e9-fd47-2a8f7450bbbd"
      },
      "source": [
        "A = np.array([1,5,8,9])\n",
        "S = 5*A\n",
        "print(S)"
      ],
      "execution_count": 34,
      "outputs": [
        {
          "output_type": "stream",
          "name": "stdout",
          "text": [
            "[ 5 25 40 45]\n"
          ]
        }
      ]
    },
    {
      "cell_type": "markdown",
      "metadata": {
        "id": "35hwQMY7ymcW"
      },
      "source": [
        "####Cross Product"
      ]
    },
    {
      "cell_type": "code",
      "metadata": {
        "colab": {
          "base_uri": "https://localhost:8080/"
        },
        "id": "W6bSTFlVx10U",
        "outputId": "d7d2f334-193f-4d6c-f14e-8b05ae813ad4"
      },
      "source": [
        "import numpy as np\n",
        "\n",
        "A = np.array([2,3])\n",
        "B = np.array([1,7])\n",
        "\n",
        "output = np.cross(A,B)\n",
        "print(output)"
      ],
      "execution_count": 36,
      "outputs": [
        {
          "output_type": "stream",
          "name": "stdout",
          "text": [
            "11\n"
          ]
        }
      ]
    },
    {
      "cell_type": "code",
      "metadata": {
        "colab": {
          "base_uri": "https://localhost:8080/"
        },
        "id": "VqulEIhr0x2K",
        "outputId": "b57d2371-3a4b-43b4-ab54-a4dc7457f6df"
      },
      "source": [
        "import numpy as np\n",
        "\n",
        "A = np.array([2,3])\n",
        "B = np.array([1,7])\n",
        "\n",
        "cross = np.cross(A,B)\n",
        "print(cross)"
      ],
      "execution_count": 37,
      "outputs": [
        {
          "output_type": "stream",
          "name": "stdout",
          "text": [
            "11\n"
          ]
        }
      ]
    },
    {
      "cell_type": "code",
      "metadata": {
        "colab": {
          "base_uri": "https://localhost:8080/"
        },
        "id": "n29DpLMV07Gw",
        "outputId": "bf873430-5b6a-4c59-a1bd-dc56b05a4169"
      },
      "source": [
        "import numpy as np\n",
        "A = np.array([2,3])\n",
        "B = np.array([1,7])\n",
        "\n",
        "dot = np.dot(A,B)\n",
        "print(dot)"
      ],
      "execution_count": 38,
      "outputs": [
        {
          "output_type": "stream",
          "name": "stdout",
          "text": [
            "23\n"
          ]
        }
      ]
    }
  ]
}