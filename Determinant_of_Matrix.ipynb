{
  "nbformat": 4,
  "nbformat_minor": 0,
  "metadata": {
    "colab": {
      "name": "Determinant of Matrix.ipynb",
      "provenance": [],
      "collapsed_sections": [],
      "authorship_tag": "ABX9TyPspIo9Iaq1h1FGOq/WQ1hF",
      "include_colab_link": true
    },
    "kernelspec": {
      "name": "python3",
      "display_name": "Python 3"
    },
    "language_info": {
      "name": "python"
    }
  },
  "cells": [
    {
      "cell_type": "markdown",
      "metadata": {
        "id": "view-in-github",
        "colab_type": "text"
      },
      "source": [
        "<a href=\"https://colab.research.google.com/github/Mtigno14/Linear-Algebra-58019/blob/main/Determinant_of_Matrix.ipynb\" target=\"_parent\"><img src=\"https://colab.research.google.com/assets/colab-badge.svg\" alt=\"Open In Colab\"/></a>"
      ]
    },
    {
      "cell_type": "code",
      "metadata": {
        "colab": {
          "base_uri": "https://localhost:8080/"
        },
        "id": "JYSLH7Y8_0Sh",
        "outputId": "f20adc87-fb9f-43b4-908e-5fabbc130fe8"
      },
      "source": [
        "import numpy as np\n",
        "A = np.array([[1, 2, -1],[4, 6, -2],[-1, 3, 3]]) #the given 3x3 matrix\n",
        "print(A)\n",
        "print(\"\\nThe answer is: \")\n",
        "print(np.linalg.det(A))\n",
        "print(\"\\nor equal to\")\n",
        "print(round(np.linalg.det(A)))"
      ],
      "execution_count": 7,
      "outputs": [
        {
          "output_type": "stream",
          "name": "stdout",
          "text": [
            "[[ 1  2 -1]\n",
            " [ 4  6 -2]\n",
            " [-1  3  3]]\n",
            "\n",
            "The answer is: \n",
            "-13.999999999999996\n",
            "\n",
            "or equal to\n",
            "-14\n"
          ]
        }
      ]
    }
  ]
}