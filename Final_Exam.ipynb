{
  "nbformat": 4,
  "nbformat_minor": 0,
  "metadata": {
    "colab": {
      "name": "Final Exam.ipynb",
      "provenance": [],
      "collapsed_sections": [],
      "authorship_tag": "ABX9TyNk/ef5iunxRT2kvgpgMQtw",
      "include_colab_link": true
    },
    "kernelspec": {
      "name": "python3",
      "display_name": "Python 3"
    },
    "language_info": {
      "name": "python"
    }
  },
  "cells": [
    {
      "cell_type": "markdown",
      "metadata": {
        "id": "view-in-github",
        "colab_type": "text"
      },
      "source": [
        "<a href=\"https://colab.research.google.com/github/Mtigno14/Linear-Algebra-58019/blob/main/Final_Exam.ipynb\" target=\"_parent\"><img src=\"https://colab.research.google.com/assets/colab-badge.svg\" alt=\"Open In Colab\"/></a>"
      ]
    },
    {
      "cell_type": "markdown",
      "source": [
        "##Final Exam"
      ],
      "metadata": {
        "id": "JYmwflBNGZ12"
      }
    },
    {
      "cell_type": "markdown",
      "source": [
        "###Problem 1."
      ],
      "metadata": {
        "id": "_MKFQAtOG0Db"
      }
    },
    {
      "cell_type": "code",
      "source": [
        "#manual equation\n",
        "#A + B + C = 89\n",
        "#A + 4C = 89\n",
        "#5C = 95\n",
        "\n",
        "left = np.array([[1,1,1],[1,0,4],[0,0,5]])    #the two matrix are based off in equations above\n",
        "right = np.array([[89],[89],[95]])\n",
        "each_amount = np.linalg.inv(left).dot(right)  #gets the inverse of the first matrix and then multiply the second matrix\n",
        "print(\"The cash each student have in their banks:\\n\",each_amount) #prints the cash each student have in total of 89"
      ],
      "metadata": {
        "colab": {
          "base_uri": "https://localhost:8080/"
        },
        "id": "cCai-HCuG9Od",
        "outputId": "80de162c-5794-4a16-a4fd-b537b1209ba1"
      },
      "execution_count": 42,
      "outputs": [
        {
          "output_type": "stream",
          "name": "stdout",
          "text": [
            "The cash each student have in their banks:\n",
            " [[13.]\n",
            " [57.]\n",
            " [19.]]\n"
          ]
        }
      ]
    },
    {
      "cell_type": "markdown",
      "source": [
        "###Problem 2."
      ],
      "metadata": {
        "id": "h50uVjAoG439"
      }
    },
    {
      "cell_type": "code",
      "source": [
        "import numpy as np\n",
        "\n",
        "A = np.array([[3,-1,1],[9,-3,3],[-12,4,-4]]) #matrix A (left side of the equation)\n",
        "print(A)\n",
        "\n",
        "B = np.array([[5],[15],[-20]]) #matrix B (right side of the equation)\n",
        "print(\"\\n\",B)\n",
        "\n",
        "inv_A = np.linalg.pinv(A) #it seems to have an error saying it is a singular matrix. (means theres nothing to inverse with)\n",
        "print(\"\\n\",inv_A)         #thus i tried the psuedo inverse for the matrix in order to determine it.\n",
        "                          #the psuedo inverse in simple terms generalized the matrix that cannot be invertible.\n",
        "\n",
        "X = np.linalg.pinv(A).dot(B)\n",
        "print(\"\\n\",X)\n",
        "\n",
        "X = np.dot(inv_A,B) #simply the dot product of matrix A and matrix B\n",
        "print(\"\\n\",X)"
      ],
      "metadata": {
        "colab": {
          "base_uri": "https://localhost:8080/"
        },
        "id": "uQQR05PrG9l1",
        "outputId": "f71dccf2-cbc1-47fc-b73a-e488dd6328d6"
      },
      "execution_count": 43,
      "outputs": [
        {
          "output_type": "stream",
          "name": "stdout",
          "text": [
            "[[  3  -1   1]\n",
            " [  9  -3   3]\n",
            " [-12   4  -4]]\n",
            "\n",
            " [[  5]\n",
            " [ 15]\n",
            " [-20]]\n",
            "\n",
            " [[ 0.01048951  0.03146853 -0.04195804]\n",
            " [-0.0034965  -0.01048951  0.01398601]\n",
            " [ 0.0034965   0.01048951 -0.01398601]]\n",
            "\n",
            " [[ 1.36363636]\n",
            " [-0.45454545]\n",
            " [ 0.45454545]]\n",
            "\n",
            " [[ 1.36363636]\n",
            " [-0.45454545]\n",
            " [ 0.45454545]]\n"
          ]
        }
      ]
    },
    {
      "cell_type": "markdown",
      "source": [
        "###Problem 3."
      ],
      "metadata": {
        "id": "iy8T2swKG5AM"
      }
    },
    {
      "cell_type": "code",
      "execution_count": 13,
      "metadata": {
        "colab": {
          "base_uri": "https://localhost:8080/"
        },
        "id": "QdYo3wPZ_5-I",
        "outputId": "ae23a66a-92e8-4115-ef3e-dc63da227648"
      },
      "outputs": [
        {
          "output_type": "stream",
          "name": "stdout",
          "text": [
            "Matrix A:\n",
            " [[  8   5  -6]\n",
            " [-12  -9  12]\n",
            " [ -3  -3   5]]\n",
            "\n",
            "The eigenvalue/s is/are: [-1.  3.  2.]\n",
            "\n",
            "The eigenvectors are:\n",
            " [[ 3.01511345e-01 -7.07106781e-01  7.07106781e-01]\n",
            " [-9.04534034e-01  7.07106781e-01  1.53837015e-15]\n",
            " [-3.01511345e-01 -2.26120075e-15  7.07106781e-01]]\n",
            "\n",
            "The eigenvectors are:\n",
            " [[ 0. -1.  1.]\n",
            " [-1.  1.  0.]\n",
            " [-0. -0.  1.]]\n"
          ]
        }
      ],
      "source": [
        "import numpy as np\n",
        "from scipy.linalg import solve\n",
        "\n",
        "A = np.array([[8,5,-6],[-12,-9,12],[-3,-3,5]]) #matrix A\n",
        "print(\"Matrix A:\\n\",A)\n",
        "\n",
        "x,y = np.linalg.eig(A) #eig method to find the eigenvalue and eigenvector of matrix A\n",
        "print(\"\\nThe eigenvalue/s is/are:\",x) #prints eigenvalues of x\n",
        "print(\"\\nThe eigenvectors are:\\n\",y) #prints eigenvectors of y\n",
        "print(\"\\nThe eigenvectors are:\\n\",y.round()) #rounded eigenvectors"
      ]
    }
  ]
}