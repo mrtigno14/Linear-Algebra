{
  "nbformat": 4,
  "nbformat_minor": 0,
  "metadata": {
    "colab": {
      "name": "Prelim Exam.ipynb",
      "provenance": [],
      "collapsed_sections": [],
      "authorship_tag": "ABX9TyNfNpl6Rr9qYn6Mf3HNJ9KI",
      "include_colab_link": true
    },
    "kernelspec": {
      "name": "python3",
      "display_name": "Python 3"
    },
    "language_info": {
      "name": "python"
    }
  },
  "cells": [
    {
      "cell_type": "markdown",
      "metadata": {
        "id": "view-in-github",
        "colab_type": "text"
      },
      "source": [
        "<a href=\"https://colab.research.google.com/github/Mtigno14/Linear-Algebra-58019/blob/main/Prelim_Exam.ipynb\" target=\"_parent\"><img src=\"https://colab.research.google.com/assets/colab-badge.svg\" alt=\"Open In Colab\"/></a>"
      ]
    },
    {
      "cell_type": "markdown",
      "metadata": {
        "id": "yMj1MUeJhag3"
      },
      "source": [
        "#Prelim Exam"
      ]
    },
    {
      "cell_type": "markdown",
      "metadata": {
        "id": "k-DA5cYJpzS8"
      },
      "source": [
        "##Question 1"
      ]
    },
    {
      "cell_type": "code",
      "metadata": {
        "colab": {
          "base_uri": "https://localhost:8080/"
        },
        "id": "dwRdq40ahuei",
        "outputId": "a0a1bbc7-1122-43e2-f1fc-f30cfd3b9686"
      },
      "source": [
        "import numpy as np\n",
        "\n",
        "C = np.eye(4) #this is variable C that has the eye function where all elements are 0, except for the diagonal values\n",
        "print(\"Answer: \\n\")\n",
        "print(C) #the 4x4 matrix output"
      ],
      "execution_count": 25,
      "outputs": [
        {
          "output_type": "stream",
          "name": "stdout",
          "text": [
            "Answer: \n",
            "\n",
            "[[1. 0. 0. 0.]\n",
            " [0. 1. 0. 0.]\n",
            " [0. 0. 1. 0.]\n",
            " [0. 0. 0. 1.]]\n"
          ]
        }
      ]
    },
    {
      "cell_type": "markdown",
      "metadata": {
        "id": "00DOU1DRp1tQ"
      },
      "source": [
        "##Question 2"
      ]
    },
    {
      "cell_type": "code",
      "metadata": {
        "colab": {
          "base_uri": "https://localhost:8080/"
        },
        "id": "oXW87xWTlKJA",
        "outputId": "49664192-cd7f-47a4-81d7-32ad8d226ce9"
      },
      "source": [
        "import numpy as np\n",
        "\n",
        "C = np.eye(4) #this is variable C that has the eye function where all elements are 0, except for the diagonal values\n",
        "D = C * 2 #this doubles the values of each elements\n",
        "print(\"Answer: \\n\")\n",
        "print(\"The original values: \\n\",C) #printing the original results\n",
        "print(\"\\n The doubled values: \\n\",D) #the doubled printing results"
      ],
      "execution_count": 24,
      "outputs": [
        {
          "output_type": "stream",
          "name": "stdout",
          "text": [
            "Answer: \n",
            "\n",
            "The original values: \n",
            " [[1. 0. 0. 0.]\n",
            " [0. 1. 0. 0.]\n",
            " [0. 0. 1. 0.]\n",
            " [0. 0. 0. 1.]]\n",
            "\n",
            " The doubled values: \n",
            " [[2. 0. 0. 0.]\n",
            " [0. 2. 0. 0.]\n",
            " [0. 0. 2. 0.]\n",
            " [0. 0. 0. 2.]]\n"
          ]
        }
      ]
    },
    {
      "cell_type": "markdown",
      "metadata": {
        "id": "VohcPTblp3E5"
      },
      "source": [
        "##Question 3"
      ]
    },
    {
      "cell_type": "code",
      "metadata": {
        "colab": {
          "base_uri": "https://localhost:8080/"
        },
        "id": "gHrdgc7_huqw",
        "outputId": "f6fbd788-04d6-443d-fcfb-974761c9f3f6"
      },
      "source": [
        "import numpy as np\n",
        "\n",
        "A = ([2,7,4]) #this is variable A\n",
        "B = ([3,9,8]) #this is variable B\n",
        "\n",
        "output = np.cross(A,B) #the cross product of a vector\n",
        "print(\"Answer: \\n \")\n",
        "print(output) #result/output"
      ],
      "execution_count": 23,
      "outputs": [
        {
          "output_type": "stream",
          "name": "stdout",
          "text": [
            "Answer: \n",
            " \n",
            "[20 -4 -3]\n"
          ]
        }
      ]
    }
  ]
}