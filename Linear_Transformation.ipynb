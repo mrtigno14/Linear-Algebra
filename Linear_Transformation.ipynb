{
  "nbformat": 4,
  "nbformat_minor": 0,
  "metadata": {
    "colab": {
      "name": "Linear Transformation.ipynb",
      "provenance": [],
      "collapsed_sections": [],
      "authorship_tag": "ABX9TyMdzFHySQbA3ZnWdoZ3eMTb",
      "include_colab_link": true
    },
    "kernelspec": {
      "name": "python3",
      "display_name": "Python 3"
    },
    "language_info": {
      "name": "python"
    }
  },
  "cells": [
    {
      "cell_type": "markdown",
      "metadata": {
        "id": "view-in-github",
        "colab_type": "text"
      },
      "source": [
        "<a href=\"https://colab.research.google.com/github/Mtigno14/Linear-Algebra-58019/blob/main/Linear_Transformation.ipynb\" target=\"_parent\"><img src=\"https://colab.research.google.com/assets/colab-badge.svg\" alt=\"Open In Colab\"/></a>"
      ]
    },
    {
      "cell_type": "markdown",
      "metadata": {
        "id": "BuRYNnApDo1I"
      },
      "source": [
        "##To find the inverse of a matrix, the matrix is passed to the linalg.inv() of the NumPy module:"
      ]
    },
    {
      "cell_type": "code",
      "metadata": {
        "id": "RKZW3MxfAM3Z",
        "colab": {
          "base_uri": "https://localhost:8080/"
        },
        "outputId": "ae088249-c286-42ec-ddab-b43ee422ffa4"
      },
      "source": [
        "import numpy as np\n",
        "A = np.array([[4,3],[-5,9]]) #creation of matrix A\n",
        "print(A)\n",
        "inv_A = np.linalg.inv(A)\n",
        "print(inv_A)"
      ],
      "execution_count": 5,
      "outputs": [
        {
          "output_type": "stream",
          "name": "stdout",
          "text": [
            "[[ 4  3]\n",
            " [-5  9]]\n",
            "[[ 0.17647059 -0.05882353]\n",
            " [ 0.09803922  0.07843137]]\n"
          ]
        }
      ]
    },
    {
      "cell_type": "code",
      "metadata": {
        "colab": {
          "base_uri": "https://localhost:8080/"
        },
        "id": "_vLDJNM8Fvf1",
        "outputId": "6b4deeac-aa8c-48c8-c2f8-94190840b439"
      },
      "source": [
        "B = np.array([[20],[26]])\n",
        "print(B)"
      ],
      "execution_count": 7,
      "outputs": [
        {
          "output_type": "stream",
          "name": "stdout",
          "text": [
            "[[20]\n",
            " [26]]\n"
          ]
        }
      ]
    },
    {
      "cell_type": "code",
      "metadata": {
        "colab": {
          "base_uri": "https://localhost:8080/"
        },
        "id": "paGzBwVNGgpk",
        "outputId": "b36ac3aa-8b1d-4e9d-9a5a-df76c316f2ff"
      },
      "source": [
        "X = np.linalg.inv(A).dot(B)\n",
        "print(X)"
      ],
      "execution_count": 8,
      "outputs": [
        {
          "output_type": "stream",
          "name": "stdout",
          "text": [
            "[[2.]\n",
            " [4.]]\n"
          ]
        }
      ]
    },
    {
      "cell_type": "code",
      "metadata": {
        "colab": {
          "base_uri": "https://localhost:8080/"
        },
        "id": "9zpShFjaGoiA",
        "outputId": "028e6ee6-9024-4c8f-d66e-a3723dba9f7b"
      },
      "source": [
        "X = np.dot(inv_A,B)\n",
        "print(X)"
      ],
      "execution_count": 10,
      "outputs": [
        {
          "output_type": "stream",
          "name": "stdout",
          "text": [
            "[[2.]\n",
            " [4.]]\n"
          ]
        }
      ]
    },
    {
      "cell_type": "markdown",
      "metadata": {
        "id": "MY0ZEE9VOObu"
      },
      "source": [
        "##Let's now solve a system of three linear equations, as shown below:"
      ]
    },
    {
      "cell_type": "code",
      "metadata": {
        "colab": {
          "base_uri": "https://localhost:8080/"
        },
        "id": "nHy3hq2AHM1H",
        "outputId": "0ccf2801-f652-4239-c152-0470acfe7f96"
      },
      "source": [
        "import numpy as np\n",
        "A = np.array([[4,3,2],[-2,2,3],[3,-5,2]])\n",
        "print(A)\n",
        "inv_A = np.linalg.inv(A)\n",
        "print(inv_A)"
      ],
      "execution_count": 12,
      "outputs": [
        {
          "output_type": "stream",
          "name": "stdout",
          "text": [
            "[[ 4  3  2]\n",
            " [-2  2  3]\n",
            " [ 3 -5  2]]\n",
            "[[ 0.15447154 -0.1300813   0.04065041]\n",
            " [ 0.10569106  0.01626016 -0.1300813 ]\n",
            " [ 0.03252033  0.23577236  0.11382114]]\n"
          ]
        }
      ]
    },
    {
      "cell_type": "code",
      "metadata": {
        "colab": {
          "base_uri": "https://localhost:8080/"
        },
        "id": "xCcZrOleIXgh",
        "outputId": "b3476bdf-c3d8-49ad-8967-68c6cedfcc3f"
      },
      "source": [
        "B = np.array([[25],[-10],[-4]])\n",
        "print(B)"
      ],
      "execution_count": 13,
      "outputs": [
        {
          "output_type": "stream",
          "name": "stdout",
          "text": [
            "[[ 25]\n",
            " [-10]\n",
            " [ -4]]\n"
          ]
        }
      ]
    },
    {
      "cell_type": "code",
      "metadata": {
        "colab": {
          "base_uri": "https://localhost:8080/"
        },
        "id": "cR3707MkIiZW",
        "outputId": "cf09da90-db5f-4770-fe27-61e91b05ed5f"
      },
      "source": [
        "X = np.linalg.inv(A).dot(B)\n",
        "print(X)"
      ],
      "execution_count": 14,
      "outputs": [
        {
          "output_type": "stream",
          "name": "stdout",
          "text": [
            "[[ 5.]\n",
            " [ 3.]\n",
            " [-2.]]\n"
          ]
        }
      ]
    },
    {
      "cell_type": "code",
      "metadata": {
        "colab": {
          "base_uri": "https://localhost:8080/"
        },
        "id": "Y1oSFTOHIkFL",
        "outputId": "02b91de6-76c9-4f53-89c4-d3a23d531860"
      },
      "source": [
        "X = np.dot(inv_A,B)\n",
        "print(X)"
      ],
      "execution_count": 15,
      "outputs": [
        {
          "output_type": "stream",
          "name": "stdout",
          "text": [
            "[[ 5.]\n",
            " [ 3.]\n",
            " [-2.]]\n"
          ]
        }
      ]
    },
    {
      "cell_type": "markdown",
      "metadata": {
        "id": "XNijLroJPRpC"
      },
      "source": [
        "##Application Problem"
      ]
    },
    {
      "cell_type": "code",
      "metadata": {
        "colab": {
          "base_uri": "https://localhost:8080/"
        },
        "id": "UK1ewrTpLohR",
        "outputId": "3daea6d7-14f4-4d54-ac28-954c85bedfa5"
      },
      "source": [
        "import numpy as np\n",
        "A = np.array([[20,10],[17,22]])\n",
        "print(A)\n",
        "inv_A = np.linalg.inv(A)\n",
        "print(inv_A)"
      ],
      "execution_count": 16,
      "outputs": [
        {
          "output_type": "stream",
          "name": "stdout",
          "text": [
            "[[20 10]\n",
            " [17 22]]\n",
            "[[ 0.08148148 -0.03703704]\n",
            " [-0.06296296  0.07407407]]\n"
          ]
        }
      ]
    },
    {
      "cell_type": "code",
      "metadata": {
        "colab": {
          "base_uri": "https://localhost:8080/"
        },
        "id": "BxxDxOzbL8jA",
        "outputId": "923ed332-ca3a-4f33-be72-635cc7c4c07e"
      },
      "source": [
        "B = np.array([[350],[500]])\n",
        "print(B)"
      ],
      "execution_count": 17,
      "outputs": [
        {
          "output_type": "stream",
          "name": "stdout",
          "text": [
            "[[350]\n",
            " [500]]\n"
          ]
        }
      ]
    },
    {
      "cell_type": "code",
      "metadata": {
        "colab": {
          "base_uri": "https://localhost:8080/"
        },
        "id": "CosIBHbrMHfr",
        "outputId": "e38b99b1-67bf-472d-9416-b95e63632b80"
      },
      "source": [
        "X = np.linalg.inv(A).dot(B)\n",
        "print(X)"
      ],
      "execution_count": 18,
      "outputs": [
        {
          "output_type": "stream",
          "name": "stdout",
          "text": [
            "[[10.]\n",
            " [15.]]\n"
          ]
        }
      ]
    },
    {
      "cell_type": "markdown",
      "metadata": {
        "id": "WzZcYAgTN08q"
      },
      "source": [
        "##To check if the answer is correct"
      ]
    },
    {
      "cell_type": "code",
      "metadata": {
        "colab": {
          "base_uri": "https://localhost:8080/"
        },
        "id": "Wx3iFfWEMLeX",
        "outputId": "e0ee66f0-7888-4a48-9a9a-3a0e5b87b97f"
      },
      "source": [
        "X = np.dot(inv_A,B)\n",
        "print(X)"
      ],
      "execution_count": 19,
      "outputs": [
        {
          "output_type": "stream",
          "name": "stdout",
          "text": [
            "[[10.]\n",
            " [15.]]\n"
          ]
        }
      ]
    }
  ]
}