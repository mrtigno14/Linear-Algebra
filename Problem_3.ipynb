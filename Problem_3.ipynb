{
  "nbformat": 4,
  "nbformat_minor": 0,
  "metadata": {
    "colab": {
      "name": "Problem 3.ipynb",
      "provenance": [],
      "collapsed_sections": [],
      "authorship_tag": "ABX9TyPR4XyTq8ArtOEbYdktiyXq",
      "include_colab_link": true
    },
    "kernelspec": {
      "name": "python3",
      "display_name": "Python 3"
    },
    "language_info": {
      "name": "python"
    }
  },
  "cells": [
    {
      "cell_type": "markdown",
      "metadata": {
        "id": "view-in-github",
        "colab_type": "text"
      },
      "source": [
        "<a href=\"https://colab.research.google.com/github/Mtigno14/Linear-Algebra-58019/blob/main/Problem_3.ipynb\" target=\"_parent\"><img src=\"https://colab.research.google.com/assets/colab-badge.svg\" alt=\"Open In Colab\"/></a>"
      ]
    },
    {
      "cell_type": "code",
      "execution_count": 9,
      "metadata": {
        "colab": {
          "base_uri": "https://localhost:8080/"
        },
        "id": "IAgO2oTYmODg",
        "outputId": "4e9cbab4-9a58-4440-a4a0-80ae37aa9665"
      },
      "outputs": [
        {
          "output_type": "stream",
          "name": "stdout",
          "text": [
            "2.173062167587077\n"
          ]
        }
      ],
      "source": [
        "import math\n",
        "def f(x): return(math.exp(x)) # define the trigo function\n",
        "\n",
        "a =  -1\n",
        "b = 1\n",
        "n = 10\n",
        "h = (b-a)/n #width of the trapezoid\n",
        "S = h* (f(a)+f(b)) ##beginning value of summation\n",
        "\n",
        "for i in range(1,n):\n",
        "\tS+=f(a+i*h)\n",
        " \n",
        "Integral = h*S\n",
        "print(Integral)"
      ]
    }
  ]
}